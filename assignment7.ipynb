{
 "cells": [
  {
   "cell_type": "code",
   "execution_count": 1,
   "id": "498d4e55",
   "metadata": {},
   "outputs": [],
   "source": [
    "##1. What is the name of the feature responsible for generating Regex objects?"
   ]
  },
  {
   "cell_type": "code",
   "execution_count": 4,
   "id": "542c4309",
   "metadata": {},
   "outputs": [],
   "source": [
    "##ans-The re.compile() function returns Regex objects"
   ]
  },
  {
   "cell_type": "code",
   "execution_count": 5,
   "id": "51afe3b9",
   "metadata": {},
   "outputs": [],
   "source": [
    "##2.Why do raw strings often appear in Regex objects?"
   ]
  },
  {
   "cell_type": "code",
   "execution_count": 6,
   "id": "d10320f4",
   "metadata": {},
   "outputs": [],
   "source": [
    "##ans-Raw strings are used so that backslashes do not have to be escaped"
   ]
  },
  {
   "cell_type": "code",
   "execution_count": 7,
   "id": "7aea2873",
   "metadata": {},
   "outputs": [],
   "source": [
    "##3. What is the return value of the search() method?"
   ]
  },
  {
   "cell_type": "code",
   "execution_count": 8,
   "id": "c61031fc",
   "metadata": {},
   "outputs": [],
   "source": [
    "##ans-The search() method returns Match objects."
   ]
  },
  {
   "cell_type": "code",
   "execution_count": 9,
   "id": "3dfbd852",
   "metadata": {},
   "outputs": [],
   "source": [
    "##4. From a Match item, how do you get the actual strings that match the pattern?"
   ]
  },
  {
   "cell_type": "code",
   "execution_count": 10,
   "id": "01e42bdc",
   "metadata": {},
   "outputs": [],
   "source": [
    "##ans-The group() method returns strings of the matched text."
   ]
  },
  {
   "cell_type": "code",
   "execution_count": 11,
   "id": "9587745c",
   "metadata": {},
   "outputs": [],
   "source": [
    "##5. In the regex which created from the r'(\\d\\d\\d)-(\\d\\d\\d-\\d\\d\\d\\d)', what does group zero cover? Group 2? Group 1?"
   ]
  },
  {
   "cell_type": "code",
   "execution_count": 1,
   "id": "b0bc82ea",
   "metadata": {},
   "outputs": [],
   "source": [
    "##ans-Group 0 is the entire match, group 1 covers the first set of parentheses, and group 2 covers the second set of parentheses."
   ]
  },
  {
   "cell_type": "code",
   "execution_count": 2,
   "id": "fbb21a91",
   "metadata": {},
   "outputs": [],
   "source": [
    "##6. In standard expression syntax, parentheses and intervals have distinct meanings. How can you tell a regex that you want it to fit real parentheses and periods?"
   ]
  },
  {
   "cell_type": "code",
   "execution_count": 3,
   "id": "70c99f78",
   "metadata": {},
   "outputs": [],
   "source": [
    "##ans-Periods and parentheses can be escaped with a backslash: \\., \\(, and \\)."
   ]
  },
  {
   "cell_type": "code",
   "execution_count": 4,
   "id": "dcdb6f63",
   "metadata": {},
   "outputs": [],
   "source": [
    "##7. The findall() method returns a string list or a list of string tuples. What causes it to return one of the two options?"
   ]
  },
  {
   "cell_type": "code",
   "execution_count": 5,
   "id": "c4499bd4",
   "metadata": {},
   "outputs": [],
   "source": [
    "##ans-If the regex has no groups, a list of strings is returned. If the regex has groups, a list of tuples of strings is returned."
   ]
  },
  {
   "cell_type": "code",
   "execution_count": 6,
   "id": "e160e9df",
   "metadata": {},
   "outputs": [],
   "source": [
    "##8. In standard expressions, what does the | character mean?"
   ]
  },
  {
   "cell_type": "code",
   "execution_count": 7,
   "id": "b0696dcb",
   "metadata": {},
   "outputs": [],
   "source": [
    "##ans-The | character signifies matching “either, or” between two groups."
   ]
  },
  {
   "cell_type": "code",
   "execution_count": 8,
   "id": "0a48d2e4",
   "metadata": {},
   "outputs": [],
   "source": [
    "##9. In regular expressions, what does the character stand for?"
   ]
  },
  {
   "cell_type": "code",
   "execution_count": 9,
   "id": "c36c9c3e",
   "metadata": {},
   "outputs": [],
   "source": [
    "##ans-The ? character can either mean “match zero or one of the preceding group” or be used to signify nongreedy matching."
   ]
  },
  {
   "cell_type": "code",
   "execution_count": 10,
   "id": "e3d86880",
   "metadata": {},
   "outputs": [],
   "source": [
    "##10.In regular expressions, what is the difference between the + and * characters?"
   ]
  },
  {
   "cell_type": "code",
   "execution_count": 11,
   "id": "ea7ae907",
   "metadata": {},
   "outputs": [],
   "source": [
    "##ans-The + matches one or more. The * matches zero or more."
   ]
  },
  {
   "cell_type": "code",
   "execution_count": 12,
   "id": "291a1527",
   "metadata": {},
   "outputs": [],
   "source": [
    "##11. What is the difference between {4} and {4,5} in regular expression?"
   ]
  },
  {
   "cell_type": "code",
   "execution_count": 13,
   "id": "e7bf1359",
   "metadata": {},
   "outputs": [],
   "source": [
    "##ans-The {3} matches exactly three instances of the preceding group. The {3,5} matches between three and five instances."
   ]
  },
  {
   "cell_type": "code",
   "execution_count": 14,
   "id": "e2e94c1a",
   "metadata": {},
   "outputs": [],
   "source": [
    "##12. What do you mean by the \\d, \\w, and \\s shorthand character classes signify in regular expressions?"
   ]
  },
  {
   "cell_type": "code",
   "execution_count": 15,
   "id": "12c956bb",
   "metadata": {},
   "outputs": [],
   "source": [
    "##ans-The \\d, \\w, and \\s shorthand character classes match a single digit, word, or space character, respectively."
   ]
  },
  {
   "cell_type": "code",
   "execution_count": 16,
   "id": "3ec660da",
   "metadata": {},
   "outputs": [],
   "source": [
    "##13. What do means by \\D, \\W, and \\S shorthand character classes signify in regular expressions?"
   ]
  },
  {
   "cell_type": "code",
   "execution_count": 17,
   "id": "9f002f66",
   "metadata": {},
   "outputs": [],
   "source": [
    "##ans- same as Q-12"
   ]
  },
  {
   "cell_type": "code",
   "execution_count": 18,
   "id": "2504f083",
   "metadata": {},
   "outputs": [],
   "source": [
    "##14. What is the difference between .*? and .*?"
   ]
  },
  {
   "cell_type": "code",
   "execution_count": 19,
   "id": "e066921a",
   "metadata": {},
   "outputs": [],
   "source": [
    "##ans-Passing re.I or re.IGNORECASE as the second argument to re.compile() will make the matching case insensitive."
   ]
  },
  {
   "cell_type": "code",
   "execution_count": 20,
   "id": "7be3f759",
   "metadata": {},
   "outputs": [],
   "source": [
    "##15. What is the syntax for matching both numbers and lowercase letters with a character class?"
   ]
  },
  {
   "cell_type": "code",
   "execution_count": 21,
   "id": "c4db0c61",
   "metadata": {},
   "outputs": [],
   "source": [
    "##ans-15. What is the syntax for matching both numbers and lowercase letters with a character class?"
   ]
  },
  {
   "cell_type": "code",
   "execution_count": 22,
   "id": "ae9daa20",
   "metadata": {},
   "outputs": [],
   "source": [
    "##16. What is the procedure for making a normal expression in regax case insensitive?"
   ]
  },
  {
   "cell_type": "code",
   "execution_count": 23,
   "id": "075b063e",
   "metadata": {},
   "outputs": [],
   "source": [
    "##ans-The .* performs a greedy match, and the .*? performs a nongreedy match."
   ]
  },
  {
   "cell_type": "code",
   "execution_count": 24,
   "id": "a8118101",
   "metadata": {},
   "outputs": [],
   "source": [
    "##17. What does the . character normally match? What does it match if re.DOTALL is passed as 2nd argument in re.compile()?"
   ]
  },
  {
   "cell_type": "code",
   "execution_count": 25,
   "id": "d5383aa4",
   "metadata": {},
   "outputs": [],
   "source": [
    "##ans-Either [0-9a-z] or [a-z0-9]"
   ]
  },
  {
   "cell_type": "code",
   "execution_count": 26,
   "id": "7e194bb6",
   "metadata": {},
   "outputs": [],
   "source": [
    "##18. If numReg = re.compile(r'\\d+'), what will numRegex.sub('X', '11 drummers, 10 pipers, five rings, 4 hen') return?"
   ]
  },
  {
   "cell_type": "code",
   "execution_count": 27,
   "id": "e0341f10",
   "metadata": {},
   "outputs": [],
   "source": [
    "##ans-'X drummers, X pipers, five rings, X hens'"
   ]
  },
  {
   "cell_type": "code",
   "execution_count": 28,
   "id": "2a5ba764",
   "metadata": {},
   "outputs": [],
   "source": [
    "##19. What does passing re.VERBOSE as the 2nd argument to re.compile() allow to do?"
   ]
  },
  {
   "cell_type": "code",
   "execution_count": 29,
   "id": "ec2c5bbc",
   "metadata": {},
   "outputs": [],
   "source": [
    "##ans-The re.VERBOSE argument allows you to add whitespace and comments to the string passed to re.compile()."
   ]
  },
  {
   "cell_type": "code",
   "execution_count": 35,
   "id": "fc39698e",
   "metadata": {},
   "outputs": [
    {
     "data": {
      "text/plain": [
       "('1234', 'which lacks commas')"
      ]
     },
     "execution_count": 35,
     "metadata": {},
     "output_type": "execute_result"
    }
   ],
   "source": [
    "##20. How would you write a regex that match a number with comma for every three digits? It must match the given following:\n",
    "'42'\n",
    "'1,234'\n",
    "'6,368,745'\n",
    "##but not the following:\n",
    "'12,34,567' (which has only two digits between the commas)\n",
    "'1234' (which lacks commas)\n"
   ]
  },
  {
   "cell_type": "code",
   "execution_count": 36,
   "id": "3b370237",
   "metadata": {},
   "outputs": [],
   "source": [
    "##ans-re.compile(r'^\\d{1,3}(,\\d{3})*$') will create this regex, but other regex strings can produce a similar regular expression."
   ]
  },
  {
   "cell_type": "code",
   "execution_count": null,
   "id": "bde41932",
   "metadata": {},
   "outputs": [],
   "source": [
    "##21. How would you write a regex that matches the full name of someone whose last name is Watanabe? You can assume that the first name that comes before it will always be one word that begins with a capital letter. The regex must match the following:\n",
    "'Haruto Watanabe'\n",
    "'Alice Watanabe'\n",
    "'RoboCop Watanabe'\n",
    "##but not the following:\n",
    "'haruto Watanabe' (where the first name is not capitalized)\n",
    "'Mr. Watanabe' (where the preceding word has a nonletter character)\n",
    "'Watanabe' (which has no first name)\n",
    "'Haruto watanabe' (where Watanabe is not capitalized)\n"
   ]
  },
  {
   "cell_type": "code",
   "execution_count": 38,
   "id": "a81df12a",
   "metadata": {},
   "outputs": [],
   "source": [
    "##ans-re.compile(r'[A-Z][a-z]*\\sNakamoto')\n"
   ]
  },
  {
   "cell_type": "code",
   "execution_count": null,
   "id": "abb8dc4e",
   "metadata": {},
   "outputs": [],
   "source": [
    "##22. How would you write a regex that matches a sentence where the first word is either Alice, Bob, or Carol; the second word is either eats, pets, or throws; the third word is apples, cats, or baseballs; and the sentence ends with a period? This regex should be case-insensitive. It must match the following:\n",
    "'Alice eats apples.'\n",
    "'Bob pets cats.'\n",
    "'Carol throws baseballs.'\n",
    "'Alice throws Apples.'\n",
    "'BOB EATS CATS.'\n",
    "##but not the following:\n",
    "'RoboCop eats apples.'\n",
    "'ALICE THROWS FOOTBALLS.'\n",
    "'Carol eats 7 cats.'\n"
   ]
  },
  {
   "cell_type": "code",
   "execution_count": 41,
   "id": "15f946f9",
   "metadata": {},
   "outputs": [],
   "source": [
    "##ans-re.compile(r'(Alice|Bob|Carol)\\s(eats|pets|throws)\\s(apples|cats|baseballs)\\.', re.IGNORECASE)"
   ]
  },
  {
   "cell_type": "code",
   "execution_count": null,
   "id": "a369ed6b",
   "metadata": {},
   "outputs": [],
   "source": []
  }
 ],
 "metadata": {
  "kernelspec": {
   "display_name": "Python 3 (ipykernel)",
   "language": "python",
   "name": "python3"
  },
  "language_info": {
   "codemirror_mode": {
    "name": "ipython",
    "version": 3
   },
   "file_extension": ".py",
   "mimetype": "text/x-python",
   "name": "python",
   "nbconvert_exporter": "python",
   "pygments_lexer": "ipython3",
   "version": "3.10.9"
  }
 },
 "nbformat": 4,
 "nbformat_minor": 5
}
